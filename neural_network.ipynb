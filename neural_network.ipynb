{
 "cells": [
  {
   "cell_type": "code",
   "execution_count": 23,
   "metadata": {
    "collapsed": false
   },
   "outputs": [],
   "source": [
    "import math\n",
    "import numpy as np\n",
    "\n",
    "class Params:\n",
    "    def __init__(self, W1, W2, b1, b2):\n",
    "        ''' assumes 1 hidden layer, 1 output layer, where W1 is all weights from input to first hidden layer, \n",
    "        W2 is all weights from hidden layer to output layer.'''\n",
    "        self.W1 = W1\n",
    "        self.W2 = W2\n",
    "        self.b1 = b1\n",
    "        self.b2 = b2\n",
    "\n",
    "def init_matrix(row, col):\n",
    "    '''initialize from uniform distribution, divided by sqrt(col) for reasons I'm not sure of '''\n",
    "    v= 1.0 /np.sqrt(col)\n",
    "    result = np.random.uniform(low=(-1*v), high=v, size=(row,col) )\n",
    "    return result\n",
    "\n",
    "def init_model(hidden_dim, input_dim, output_dim):\n",
    "    '''initializes all the parameters of our model with dh hidden nodes'''\n",
    "    W1 = init_matrix(hidden_dim, input_dim)\n",
    "    W2 = init_matrix(output_dim, hidden_dim)\n",
    "    b1 = np.zeros((1, hidden_dim))\n",
    "    b2 = np.zeros((1, output_dim))\n",
    "    p = Params(W1, W2, b1, b2)\n",
    "    return p\n",
    "\n",
    "def sigmoid(x):\n",
    "    return 1 / (1 + np.exp(-x))\n",
    "\n",
    "def softmax(a):\n",
    "    \"\"\" Stable implementation on softmax function \"\"\"\n",
    "    a_max = np.max(a, axis=1)\n",
    "    \n",
    "    s = np.exp(a - np.tile(a_max, (a.shape[1],1)).T)\n",
    "    \n",
    "    # normalisation_factor\n",
    "    n = np.sum(s, axis=1)\n",
    "    n = 1.0/np.tile(n, (s.shape[1], 1))\n",
    "       \n",
    "    return np.multiply(s,n.T)\n",
    "\n",
    "def output_act(w,x,b):\n",
    "    '''output act func including preact func'''\n",
    "    return softmax(np.dot(x, w.T) + b)\n",
    "\n",
    "def hidden_pre(w,x,b):   \n",
    "    '''hidden layer preact func'''\n",
    "    return np.dot(x, w.T) + b\n",
    "\n",
    "def hidden_act(ha):    \n",
    "    '''hidden layer act func'''\n",
    "    print(np.shape(ha))\n",
    "    return sigmoid(ha)\n",
    "\n",
    "def onehot(m, y):\n",
    "    '''one hot encoding'''\n",
    "    result = np.zeros(m)\n",
    "    result[np.arange(m[0]), y.astype(int)] = 1\n",
    "    return result\n",
    "\n",
    "def L(os,y):\n",
    "    '''loss func'''\n",
    "    return np.sum(np.multiply(-1.0*np.log(os), onehot(os.shape,y)), axis=1)\n",
    "\n",
    "def compute_fprop(w1,w2,b1,b2,x,y):\n",
    "    ha = hidden_pre(w1,x,b1)\n",
    "    hs = hidden_act(ha)\n",
    "    os = output_act(w2,hs,b2)\n",
    "    l = L(os,y) \n",
    "    return os, ha, hs, l\n",
    "\n",
    "def compute_predictions(fprop):\n",
    "    return np.argmax(fprop[0], axis=1)"
   ]
  },
  {
   "cell_type": "markdown",
   "metadata": {},
   "source": [
    "## with init data"
   ]
  },
  {
   "cell_type": "code",
   "execution_count": 24,
   "metadata": {
    "collapsed": false
   },
   "outputs": [
    {
     "name": "stdout",
     "output_type": "stream",
     "text": [
      "(2, 4)\n"
     ]
    }
   ],
   "source": [
    "W1 = np.array([[1.0,2.0,3.0],[1.0,2.0,3.0],[1.0,2.0,3.0],[1.0,2.0,3.0]])\n",
    "W2 = np.array([[1.0,2.0,3.0,4.0],[1.0,2.0,3.0,4.0]])\n",
    "b1 = np.array([2.0,2.0,2.0,2.0])\n",
    "b2 = np.array([1.0,1.0])\n",
    "x = np.array([[1.0,1.0,1.0],[1.0,1.0,1.0]])\n",
    "y = np.array([1,1])\n",
    "val = compute_fprop(W1,W2,b1,b2, x,y)"
   ]
  },
  {
   "cell_type": "code",
   "execution_count": 28,
   "metadata": {
    "collapsed": false,
    "scrolled": true
   },
   "outputs": [
    {
     "data": {
      "text/plain": [
       "array([0, 0])"
      ]
     },
     "execution_count": 28,
     "metadata": {},
     "output_type": "execute_result"
    }
   ],
   "source": [
    "compute_predictions(val)"
   ]
  },
  {
   "cell_type": "code",
   "execution_count": null,
   "metadata": {
    "collapsed": true
   },
   "outputs": [],
   "source": []
  }
 ],
 "metadata": {
  "kernelspec": {
   "display_name": "Python 3",
   "language": "python",
   "name": "python3"
  },
  "language_info": {
   "codemirror_mode": {
    "name": "ipython",
    "version": 3
   },
   "file_extension": ".py",
   "mimetype": "text/x-python",
   "name": "python",
   "nbconvert_exporter": "python",
   "pygments_lexer": "ipython3",
   "version": "3.5.1"
  }
 },
 "nbformat": 4,
 "nbformat_minor": 1
}
