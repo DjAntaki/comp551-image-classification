{
 "cells": [
  {
   "cell_type": "markdown",
   "metadata": {},
   "source": [
    "# IFT3395 - Devoir 3 - partie 2\n",
    "\n",
    "### Implémentation matricielle et tests - Questions 6 à 10\n",
    "\n",
    "19 décembre 2015\n",
    "\n",
    "- Pierre-Luc Pigeon\n",
    "- Giancarlo Rizzi\n",
    "- Vincent Antaki\n"
   ]
  },
  {
   "cell_type": "markdown",
   "metadata": {},
   "source": [
    "##### Imports"
   ]
  },
  {
   "cell_type": "code",
   "execution_count": 1,
   "metadata": {
    "collapsed": false
   },
   "outputs": [
    {
     "name": "stdout",
     "output_type": "stream",
     "text": [
      "Populating the interactive namespace from numpy and matplotlib\n"
     ]
    }
   ],
   "source": [
    "%pylab inline\n",
    "import numpy as np\n",
    "import gzip,pickle\n",
    "import os\n",
    "import matplotlib.cbook\n",
    "import time\n",
    "warnings.filterwarnings(\"ignore\")\n",
    "\n",
    "from scipy.interpolate import interp1d\n",
    "import matplotlib.pyplot as plt\n"
   ]
  },
  {
   "cell_type": "markdown",
   "metadata": {},
   "source": [
    "##### Misc functions"
   ]
  },
  {
   "cell_type": "code",
   "execution_count": 11,
   "metadata": {
    "collapsed": false
   },
   "outputs": [
    {
     "name": "stdout",
     "output_type": "stream",
     "text": [
      "[ 3.   4.   5.   6.   0.   0.2  0. ]\n",
      "[1 1 1 1 0 1 0]\n",
      "[[ 0.33333333  0.33333333  0.33333333]]\n"
     ]
    }
   ],
   "source": [
    "class Params:\n",
    "    def __init__(self, W1, W2, b1, b2):\n",
    "        self.W1 = W1\n",
    "        self.W2 = W2\n",
    "        self.b1 = b1\n",
    "        self.b2 = b2\n",
    "\n",
    "#init une matrice W avec des poids uniforme sur l'intervalle du devoir\n",
    "def init_matrix(row, col):\n",
    "    v= 1.0 /np.sqrt(col)\n",
    "    result = np.random.uniform(low=(-1*v), high=v, size=(row,col) )\n",
    "    return result\n",
    "\n",
    "def rect(v):\n",
    "    return np.maximum(np.zeros(v.shape),v);\n",
    "\n",
    "def rectPrime(v):\n",
    "    return np.greater(v, np.zeros(v.shape)).astype(int)\n",
    "\n",
    "def onehot(m, y):\n",
    "    result = np.zeros(m)\n",
    "    result[np.arange(m[0]), y.astype(int)] = 1\n",
    "    return result\n",
    "\n",
    "def softmax(a):\n",
    "    \"\"\" Stable implementation on softmax function \"\"\"\n",
    "    a_max = np.max(a, axis=1)\n",
    "    \n",
    "    s = np.exp(a - np.tile(a_max, (a.shape[1],1)).T)\n",
    "    \n",
    "    # normalisation_factor\n",
    "    n = np.sum(s, axis=1)\n",
    "    n = 1.0/np.tile(n, (s.shape[1], 1))\n",
    "       \n",
    "    return np.multiply(s,n.T)\n",
    "\n",
    "#Timing function\n",
    "#Taken from stack overflow (URL lost)\n",
    "def timeit(f):\n",
    "    def wrap(*args):\n",
    "        time1 = time.time()\n",
    "        ret = f(*args)\n",
    "        time2 = time.time()\n",
    "        print('%s function took %0.3f ms' % (f.func_name, (time2-time1)*1000.0))\n",
    "        return ret\n",
    "    return wrap\n",
    "\n",
    "print(rect(np.array([3,4,5,6,-2, 0.2, -9])))\n",
    "print(rectPrime(np.array([3,4,5,6,-2, 0.2, -9])))\n",
    "print(softmax(np.array([[1,1,1]])))"
   ]
  },
  {
   "cell_type": "markdown",
   "metadata": {},
   "source": [
    "\n",
    "\n",
    "## Question 6 - Implémentation du calcul du mini-lot avec matrices"
   ]
  },
  {
   "cell_type": "markdown",
   "metadata": {},
   "source": [
    "#### Discussions\n",
    "\n",
    "\n",
    "La plupart des expressions que nous avions écrit dans le devoir 2 étaient erronnées. Seule la fonction grad_oa est restée sensiblement la même (grad_b2 et grad_b1 ça compte pas).\n",
    "\n",
    "Devoir 2 :\n",
    "\n",
    "- grad_oa = softmax(np.dot(W2, hs) + b2) - onehot(y)\n",
    "- grad_W2 = np.multiply(grad_oa, rect((np.dot(W^1,x)+b^1)).T)\n",
    "- grad_hs = np.multiply(grad_W2.T,grad_oa)\n",
    "- grad_ha = np.multiply(np.multiply(np.identity(d_h),rect_prime(h_a)),grad_hs)\n",
    "- grad_W1 = np.multiply(grad_ha, x.T)\n",
    "- grad_b2 = grad_oa\n",
    "- grad_b1 = grad_ha\n",
    "\n",
    "\n",
    "Implémentation (devoir 3 - part 2): \n",
    "\n",
    "- grad_oa = os - onehot(os.shape,y) #(os = softmax(np.dot(hs, w2.T) + b2) )\n",
    "- grad_W2 = grad_oa[:,:,np.newaxis] * hs[:,np.newaxis,:]\n",
    "- grad_hs = np.dot(grad_oa, W2)\n",
    "- grad_ha = np.multiply(rectPrime(ha), grad_hs)\n",
    "- grad_W1 = grad_ha[:,:,np.newaxis] * x[:,np.newaxis,:]\n",
    "- grad_b1 = grad_ha\n",
    "- grad_b2 = grad_oa\n",
    "\n",
    "\n",
    "#### Dimensions des variables pour la version non-matricielle\n",
    "\n",
    "- x : l'exemple en entrée \n",
    "- y leur classe respective\n",
    "- e le nombre de neuronnes d'entrées au réseau, \n",
    "- s le nombre de neuronne de sorties, \n",
    "- m neuronnes cachées \n",
    "\n",
    "Voici les dimensions des variables dans la version non-matricielle.\n",
    "\n",
    "- L : (1) \n",
    "- os : (1, s) \n",
    "- hs : (1, m) \n",
    "- ha : (1, m) \n",
    "- x : (1,e) \n",
    "- y : (1) \n",
    "- W1, grad W1 : (1, m, e) \n",
    "- W2, grad_W2 : (1, s, m)\n",
    "- b1, grad_b1 : (1, m)\n",
    "- b2, grad_b2 : (1, s)\n",
    "\n",
    "\n",
    "#### Dimensions des variables pour version matricielle\n",
    "\n",
    "- x : le lot en entrée de taille (k,e)\n",
    "- y leurs classes respectives\n",
    "- e le nombre de neuronnes d'entrées au réseau, \n",
    "- s le nombre de neuronne de sorties, \n",
    "- m neuronnes cachées \n",
    "- k la taille du lot, \n",
    "\n",
    "Voici les dimensions des variables dans la version matricielle.\n",
    "\n",
    "- L : (k) \n",
    "- os : (k,s) \n",
    "- hs : (k,m) \n",
    "- ha : (k,m) \n",
    "- x : (k,e) \n",
    "- y : (k) \n",
    "- W1, grad W1 : (1, m, e) \n",
    "- W2, grad_W2 : (1, s, m)\n",
    "- b1, grad_b1 : (1, m)\n",
    "- b2, grad_b2 : (1, s)"
   ]
  },
  {
   "cell_type": "code",
   "execution_count": 6,
   "metadata": {
    "collapsed": false
   },
   "outputs": [],
   "source": [
    "# Implémentation de la version matricielle du mini-lot.\n",
    "\n",
    "def _os(w,x,b):\n",
    "    '''output act func'''\n",
    "    return softmax(np.dot(x, w.T) + b)\n",
    "\n",
    "def _ha(w1,x,b1):   \n",
    "    '''hidden layer preact func'''\n",
    "    return np.dot(x, w1.T) + b1\n",
    "\n",
    "def _hs(ha):    \n",
    "    '''hidden layer act func'''\n",
    "    return rect(ha)\n",
    "\n",
    "def L(os,y):\n",
    "    return np.sum(np.multiply(-1.0*np.log(os), onehot(os.shape,y)), axis=1)\n",
    "\n",
    "def compute_fprop(w1,w2,b1,b2,x,y):\n",
    "    ha = _ha(w1,x,b1)\n",
    "    hs = _hs(ha)\n",
    "    os = _os(w2,hs,b2)\n",
    "    l = L(os,y)\n",
    "    return os, ha, hs, l\n",
    "\n",
    "def compute_predictions(fprop):\n",
    "    return np.argmax(fprop[0], axis=1)\n",
    "\n",
    "def _grad_oa(os,y):\n",
    "    \"\"\" grad_oa = grad_b2\"\"\"\n",
    "    return os - onehot(os.shape,y)\n",
    "\n",
    "def _grad_W(grad_a, hs):\n",
    "    \"\"\" \n",
    "    For w2 use input :grad_oa and hs \n",
    "    for w1 use input : grad_ha and x\n",
    "    \"\"\"\n",
    "    # from http://stackoverflow.com/questions/16500426/is-there-a-more-vectorized-way-to-perform-numpy-outer-along-an-axis\n",
    "    return grad_a[:,:,np.newaxis] * hs[:,np.newaxis,:]\n",
    "\n",
    "def _grad_ha(ha,grad_hs):\n",
    "    return np.multiply(rectPrime(ha), grad_hs)\n",
    "\n",
    "def _grad_hs(grad_oa, W2):\n",
    "    return np.dot(grad_oa, W2)\n",
    "\n",
    "def grad_bprop(W1,W2,os,ha,hs,x,y):\n",
    "    \"\"\"calcul des gradients par retropropagation\"\"\"\n",
    "    grad_oa = _grad_oa(os,y)\n",
    "    grad_hs = _grad_hs(grad_oa, W2)\n",
    "    grad_ha = _grad_ha(ha, grad_hs)\n",
    "    par = Params(_grad_W(grad_ha,x), _grad_W(grad_oa,hs), grad_ha, grad_oa)\n",
    "    return par  \n",
    "\n",
    " \n",
    "# calcul le gradient pour un lot et le retourne dans une classe Params\n",
    "# et retourne les valeurs des gradients pour chaque exemple dans le array P, contenant des classe bprop\n",
    "# pour puvoir calculer le gradient par différence finit par la suite\n",
    "def gradLot(params, data, data_y):\n",
    "    val_fprop = compute_fprop(params.W1, params.W2, params.b1, params.b2, data, data_y)\n",
    "    new_params = grad_bprop(params.W1, params.W2, val_fprop[0],val_fprop[1],val_fprop[2],data, data_y)\n",
    "    \n",
    "    #print(val_fprop[0].shape, val_fprop[1].shape, val_fprop[2].shape, val_fprop[3].shape, data.shape, data_y.shape)\n",
    "    #print(new_params.W1.shape, new_params.W2.shape, new_params.b1.shape, new_params.b2.shape)\n",
    "    \n",
    "    moy_W1 = np.mean(new_params.W1, axis=0)\n",
    "    moy_W2 = np.mean(new_params.W2, axis=0)\n",
    "    moy_b1 = np.mean(new_params.b1, axis=0)\n",
    "    moy_b2 = np.mean(new_params.b2, axis=0)\n",
    "\n",
    "    return Params(moy_W1, moy_W2, moy_b1, moy_b2)\n",
    "\n"
   ]
  },
  {
   "cell_type": "markdown",
   "metadata": {},
   "source": [
    "### Load MNIST data"
   ]
  },
  {
   "cell_type": "code",
   "execution_count": 4,
   "metadata": {
    "collapsed": false
   },
   "outputs": [],
   "source": [
    "f = gzip.open('mnist.pkl.gz')\n",
    "\n",
    "data = pickle.load(f)\n",
    "\n",
    "train = data[0][0]\n",
    "train_y =data[0][1]\n",
    "\n",
    "valid = data[1][0]\n",
    "valid_y = data[1][1]\n",
    "\n",
    "test = data[2][0]\n",
    "test_y = data[2][1]\n",
    "\n",
    "d = len(train[0])"
   ]
  },
  {
   "cell_type": "markdown",
   "metadata": {},
   "source": [
    "### Init test data"
   ]
  },
  {
   "cell_type": "code",
   "execution_count": 14,
   "metadata": {
    "collapsed": false
   },
   "outputs": [
    {
     "name": "stdout",
     "output_type": "stream",
     "text": [
      "(array([[ 0.5,  0.5],\n",
      "       [ 0.5,  0.5]]), array([[ 8.,  8.,  8.,  8.],\n",
      "       [ 8.,  8.,  8.,  8.]]), array([[ 8.,  8.,  8.,  8.],\n",
      "       [ 8.,  8.,  8.,  8.]]), array([ 0.69314718,  0.69314718]))\n",
      "<__main__.Params object at 0x103795b38>\n"
     ]
    }
   ],
   "source": [
    "\n",
    "# test avec un exemple créé\n",
    "W1 = np.array([[1.0,2.0,3.0],[1.0,2.0,3.0],[1.0,2.0,3.0],[1.0,2.0,3.0]])\n",
    "W2 = np.array([[1.0,2.0,3.0,4.0],[1.0,2.0,3.0,4.0]])\n",
    "b1 = np.array([2.0,2.0,2.0,2.0])\n",
    "b2 = np.array([1.0,1.0])\n",
    "x = np.array([[1.0,1.0,1.0],[1.0,1.0,1.0]])\n",
    "y = np.array([1,1])\n",
    "val = compute_fprop(W1,W2,b1,b2, x,y)\n",
    "print(val)\n",
    "grad = grad_bprop(W1,W2, val[0],val[1],val[2],x,y)\n",
    "print(grad)\n",
    "\n"
   ]
  },
  {
   "cell_type": "markdown",
   "metadata": {},
   "source": [
    "### Load 2moons data and shuffle"
   ]
  },
  {
   "cell_type": "code",
   "execution_count": 6,
   "metadata": {
    "collapsed": false
   },
   "outputs": [],
   "source": [
    "# load les valeurs des 2 moons\n",
    "datax = np.loadtxt('2moons.txt')\n",
    "numpy.random.seed(seed=123)\n",
    "np.random.shuffle(datax)\n"
   ]
  },
  {
   "cell_type": "markdown",
   "metadata": {},
   "source": [
    "Code to init and train our model, update parameters and print errors"
   ]
  },
  {
   "cell_type": "code",
   "execution_count": 7,
   "metadata": {
    "collapsed": false
   },
   "outputs": [],
   "source": [
    "#updates parameters of our models, and applies penalty\n",
    "def update_params(p, moy, learning_rate, penalty_lambda):\n",
    "    penaltyW1 = learning_rate * 2 * p.W1 * penalty_lambda # equivalent to L2 regularization, weight decay\n",
    "    penaltyW2 = learning_rate * 2 * p.W2 * penalty_lambda\n",
    "    p.W1 -= penaltyW1\n",
    "    p.W2 -= penaltyW2\n",
    "    p.W1 -= learning_rate * moy.W1\n",
    "    p.W2 -= learning_rate * moy.W2\n",
    "    p.b1 -= learning_rate * moy.b1\n",
    "    p.b2 -= learning_rate * moy.b2\n",
    "    return p\n",
    "\n",
    "#Initializes all the parameters of our model with dh hidden nodes\n",
    "def init_model(dh, num_feats, num_classes):\n",
    "    W1 = init_matrix(dh,num_feats)\n",
    "    W2 = init_matrix(num_classes,dh)\n",
    "    b1 = np.zeros(dh)\n",
    "    p = Params(W1, W2, b1, b2)\n",
    "    return p\n",
    "\n",
    "#Trains a model\n",
    "@timeit\n",
    "def train_model(p, ens_train, batch_size, learning_rate, penalty_lambda, num_epochs, num_feats, ens_valid, ens_test, calcTotalGrad, show_epoch_data,dataset):\n",
    "    params_total = Params(np.zeros(p.W1.shape),np.zeros(p.W2.shape),np.zeros(p.b1.shape),np.zeros(p.b2.shape) ) \n",
    "    epoch_data = []\n",
    "\n",
    "    for x in range(num_epochs):\n",
    "        start_index = 0\n",
    "        end_index = 0 \n",
    "        n = len(ens_train)\n",
    "        while end_index < n:\n",
    "            end_index = min(end_index+ batch_size, n)\n",
    "            train_data = ens_train[start_index: end_index, 0:num_feats]\n",
    "            train_y_data = ens_train[start_index: end_index, -1]\n",
    "            start_index = end_index\n",
    "            \n",
    "            grad_moy = gradLot(p, train_data, train_y_data)\n",
    "            if calcTotalGrad:\n",
    "                params_total.W1 += grad_moy.W1\n",
    "                params_total.W2 += grad_moy.W2\n",
    "                params_total.b1 += grad_moy.b1\n",
    "                params_total.b2 += grad_moy.b2\n",
    "            p = update_params(p, grad_moy, learning_rate, penalty_lambda)\n",
    "            \n",
    "        if show_epoch_data:\n",
    "            print \"For Epoch\", x+1\n",
    "            model = compute_fprop(p.W1,p.W2,p.b1,p.b2,ens_train[:,:-1],ens_train[:,-1])\n",
    "            cout_train = np.sum(model[3])\n",
    "            cout_train = 1.0*cout_train/ens_train.shape[0]\n",
    "            print \"Train Cost:\", cout_train\n",
    "            error_train = calc_print_error_rate(model, ens_train, \"Training\")\n",
    "    \n",
    "            model = compute_fprop(p.W1,p.W2,p.b1,p.b2,ens_valid[:,:-1],ens_valid[:,-1])\n",
    "            cout_valid = np.sum(model[3])\n",
    "            cout_valid = 1.0*cout_valid/ens_valid.shape[0]\n",
    "            print \"Valid Cost:\", cout_valid\n",
    "            error_valid = calc_print_error_rate(model, ens_valid, \"Validation\")\n",
    "                \n",
    "            model = compute_fprop(p.W1,p.W2,p.b1,p.b2,ens_test[:,:-1],ens_test[:,-1])\n",
    "            cout_test = np.sum(model[3])\n",
    "            cout_test = 1.0*cout_test/ens_test.shape[0]\n",
    "            print \"Test Cost:\", cout_test\n",
    "            error_test = calc_print_error_rate(model, ens_test, \"Test\")\n",
    "            epoch_data.append([cout_train, error_train, cout_valid, error_valid, cout_test, error_test])\n",
    "            print \"\\n\\n\"\n",
    "    if show_epoch_data:\n",
    "        #write epoch data to file\n",
    "        f = open('output_data','w')\n",
    "        pickle.dump(np.array(epoch_data), f)\n",
    "        f.close()\n",
    "\n",
    "    if calcTotalGrad:\n",
    "        print \"Total Gradient:\"\n",
    "        print \"W1:\",  params_total.W1   \n",
    "        print \"W2:\",  params_total.W2   \n",
    "        print \"b1:\",  params_total.b1   \n",
    "        print \"b2:\",  params_total.b2   \n",
    "    return p\n",
    "\n",
    "#Calculates error rate and prints\n",
    "def calc_print_error_rate(model, ens_train, dataset_tag):\n",
    "    classesPred = compute_predictions(model)\n",
    "    error_rate = ((1-(classesPred==ens_train[:,-1]).mean())*100.0)\n",
    "    print \"Error Rate-\", dataset_tag, \" %.2f%%\" % error_rate\n",
    "    return error_rate\n",
    "\n",
    "#Function used to generate a model, train it, and show decision region/error rate\n",
    "\n",
    "\n",
    "def init_train_plotModel(ens_train, ens_valid, ens_test, batch_size, learning_rate, penalty_lambda, hidden_nodes, error_msg_label, num_epochs, dataset = \"2moons\", calcTotalGrad=False, show_epoch_data=False):\n",
    "    numpy.random.seed(seed=123)\n",
    "    \n",
    "    num_feats = 2 \n",
    "    num_classes = 2\n",
    "    \n",
    "    if dataset == \"mnist\":\n",
    "        num_feats = 784 \n",
    "        num_classes = 10\n",
    "        \n",
    "    model = init_model(hidden_nodes, num_feats, num_classes)\n",
    "    model = train_model(model, ens_train, batch_size, learning_rate, penalty_lambda, num_epochs, num_feats, ens_valid, ens_test, calcTotalGrad,show_epoch_data,dataset)\n",
    "    #now trained, model contains our learned parameters \n",
    "\n",
    "    #convert model into fprop type for calculations\n",
    "    model = compute_fprop(model.W1,model.W2,model.b1,model.b2,ens_valid[:,0:num_feats],ens_valid[:,-1])\n",
    "\n",
    "    print error_msg_label\n",
    "    calc_print_error_rate(model, ens_valid, \"Test\")"
   ]
  },
  {
   "cell_type": "markdown",
   "metadata": {},
   "source": [
    "## Questions 7 et 8"
   ]
  },
  {
   "cell_type": "markdown",
   "metadata": {},
   "source": [
    "Dans cette section, nous comparons l'efficacité des deux implémentations avec différentes taille de lots sur l'ensemble de données MNIST. La version matricielle fonctionne particulièrement plus vite que la version avec boucle. Nous avons remarqué qu'une grande part du gain de vitesse est du au calcul plus rapide des matrices de poids.\n",
    "\n",
    "On remarque que pour K = 1 la version avec boucle prends 200ms et la version matricielle 169.6ms. Lorsque K=10, la version avec boucle prends 88.6ms et la version matricielle prends 23.6ms (3,75 fois plus vite). \n",
    "\n",
    "En poussant la taille du lot à 100, la version matricielle est 2,66 fois plus vite que la version avec boucle, avec des durées respective de 3864ms et 10279ms."
   ]
  },
  {
   "cell_type": "code",
   "execution_count": 8,
   "metadata": {
    "collapsed": false
   },
   "outputs": [
    {
     "name": "stdout",
     "output_type": "stream",
     "text": [
      "\n",
      "\n",
      "Training with batch_size = 1\n",
      "Total Gradient:\n",
      "W1: [[-0.915552   -0.21784316]\n",
      " [ 0.11150673  0.07153225]\n",
      " [-3.67884284  0.79518886]\n",
      " [-1.43440481  1.27263645]\n",
      " [ 2.63501639 -4.03608535]\n",
      " [ 0.82317096  0.81706237]\n",
      " [-0.46394331 -0.46626875]\n",
      " [-0.17067678  1.33731204]\n",
      " [-0.79217957 -0.72274414]\n",
      " [ 0.03546294  0.08892677]\n",
      " [ 5.77742584 -2.08321355]\n",
      " [-0.30368937  0.59358825]\n",
      " [ 0.18228211 -0.35647409]\n",
      " [-0.44656189 -0.66250929]\n",
      " [-0.31597559 -2.92932176]\n",
      " [-0.78661924 -0.5613091 ]\n",
      " [-0.13821049 -0.08793759]\n",
      " [-2.0666574  -2.90299433]\n",
      " [ 1.06348321  1.4993927 ]\n",
      " [-7.91482313  2.17604689]]\n",
      "W2: [[-0.09400252  0.08036428 -1.22820792 -0.23329708  1.13300642 -0.52184693\n",
      "  -0.5549821  -1.25044364 -0.54148495  0.05152823  0.3170754  -0.07311538\n",
      "   0.06725244 -0.51452536  2.02774898  0.52231655  0.07191706  1.40148696\n",
      "  -2.54895955 -2.40769684]\n",
      " [ 0.09400252 -0.08036428  1.22820792  0.23329708 -1.13300642  0.52184693\n",
      "   0.5549821   1.25044364  0.54148495 -0.05152823 -0.3170754   0.07311538\n",
      "  -0.06725244  0.51452536 -2.02774898 -0.52231655 -0.07191706 -1.40148696\n",
      "   2.54895955  2.40769684]]\n",
      "b1: [ 2.25514854  1.53481715  2.52366773  4.32549974  3.73946143  2.12818078\n",
      "  1.57578778  1.65690075  0.56107836  0.09244066  7.29178922  1.43393561\n",
      "  0.83183422  0.41054543  6.32247367  1.4839893   0.3193767   5.23789155\n",
      "  3.36026678  5.3847703 ]\n",
      "b2: [ 1.06896271 -1.06896271]\n",
      "train_model function took 226.000 ms\n",
      "Error rate with batch size = 1\n",
      "Error Rate- Test  26.33%\n",
      "\n",
      "\n",
      "Training with batch_size = 10\n",
      "Total Gradient:\n",
      "W1: [[-0.45619998  0.05164712]\n",
      " [ 0.75438926 -0.36900842]\n",
      " [-0.25565965 -0.20129627]\n",
      " [-0.30660153  0.19711265]\n",
      " [-0.02910644  0.1001494 ]\n",
      " [-0.00627708 -0.32501411]\n",
      " [-0.00475888  0.04449835]\n",
      " [-0.20945307  0.1505257 ]\n",
      " [-0.35396006 -0.07684527]\n",
      " [-0.00882324 -0.02794736]\n",
      " [ 0.12142129 -0.31857235]\n",
      " [-0.17819529  0.15033934]\n",
      " [-0.54391761 -0.02224294]\n",
      " [ 0.00488509 -0.15752691]\n",
      " [ 0.27034266  0.18443949]\n",
      " [ 0.71252078  0.04001187]\n",
      " [ 0.17531478 -0.13733906]\n",
      " [-0.14843156  0.50862242]\n",
      " [-0.22135539 -0.02178051]\n",
      " [-0.64810545 -0.01962888]]\n",
      "W2: [[-0.63649468  0.65516868 -0.58915591 -0.75519776 -0.28099045  0.69599742\n",
      "  -1.01161153  0.590532   -0.16289659 -0.07205572  0.86849976 -0.33720748\n",
      "  -0.63985376  0.09935428  0.55194469  0.74064068  0.14649778 -0.5862237\n",
      "   1.03733161 -1.05340269]\n",
      " [ 0.63649468 -0.65516868  0.58915591  0.75519776  0.28099045 -0.69599742\n",
      "   1.01161153 -0.590532    0.16289659  0.07205572 -0.86849976  0.33720748\n",
      "   0.63985376 -0.09935428 -0.55194469 -0.74064068 -0.14649778  0.5862237\n",
      "  -1.03733161  1.05340269]]\n",
      "b1: [ 0.4616493   0.00254516  0.2426858   0.109264    0.35792152  0.60716658\n",
      "  1.19948108  0.36768464  0.67720745 -0.08580307  0.93874468  0.04426996\n",
      "  0.33528508 -0.08471084  0.1167807   0.21795877  0.00712064  0.93187169\n",
      "  0.87969477  0.42512397]\n",
      "b2: [ 0.30758985 -0.30758985]\n",
      "train_model function took 29.000 ms\n",
      "Error rate with batch size = 10\n",
      "Error Rate- Test  17.00%\n"
     ]
    }
   ],
   "source": [
    "\n",
    "# Question 7\n",
    "\n",
    "### Benchmark version matricielle avec batch_size=1 et batch_size=10\n",
    "ens_train = datax[0:800,:]\n",
    "ens_test = datax[800:,:]\n",
    "\n",
    "\n",
    "hidden_nodes = 20\n",
    "batch_size = 1\n",
    "learning_rate = 0.5\n",
    "penalty_lambda = 0.001\n",
    "num_epochs = 1\n",
    "\n",
    "print \"\\n\\nTraining with batch_size = 1\"\n",
    "msg = \"Error rate with batch size = \" + str(batch_size)\n",
    "init_train_plotModel(ens_train, ens_test, [], batch_size, learning_rate, penalty_lambda, hidden_nodes, msg, num_epochs, calcTotalGrad=True)\n",
    "\n",
    "##hyperparams\n",
    "batch_size = 10\n",
    "print \"\\n\\nTraining with batch_size = 10\"\n",
    "msg = \"Error rate with batch size = \" + str(batch_size)\n",
    "init_train_plotModel(ens_train, ens_test, [], batch_size, learning_rate, penalty_lambda, hidden_nodes, msg, num_epochs, calcTotalGrad=True)\n",
    "\n"
   ]
  },
  {
   "cell_type": "markdown",
   "metadata": {
    "collapsed": false
   },
   "source": [
    "## Question 8\n",
    "\n",
    "Using MNIST dataset, num_epoch = 1, using batch_size = 100, matr"
   ]
  },
  {
   "cell_type": "code",
   "execution_count": 9,
   "metadata": {
    "collapsed": false
   },
   "outputs": [
    {
     "name": "stdout",
     "output_type": "stream",
     "text": [
      "train_model function took 10602.000 ms\n",
      "Error with num_epoch = 1, using batch_size = 100\n",
      "Error Rate- Test  7.69%\n"
     ]
    }
   ],
   "source": [
    "train_mnist =np.column_stack((np.array(train),np.array(train_y)))\n",
    "valid_mnist = np.column_stack((np.array(valid),np.array(valid_y)))\n",
    "test_mnist = np.column_stack((np.array(test), np.array(test_y)))\n",
    "\n",
    "hidden_nodes = 20\n",
    "batch_size = 100\n",
    "learning_rate = 0.5\n",
    "penalty_lambda = 0.001\n",
    "num_epochs = 1\n",
    "\n",
    "\n",
    "msg = \"Error with num_epoch = 1, using batch_size = 100\"\n",
    "init_train_plotModel(train_mnist, valid_mnist, test_mnist, batch_size, learning_rate, penalty_lambda, hidden_nodes, msg, num_epochs, \"mnist\", show_epoch_data=False)\n",
    "\n"
   ]
  },
  {
   "cell_type": "markdown",
   "metadata": {},
   "source": [
    "## Question 9\n",
    "\n",
    "Adaptation du code pour qu'il calcul au vol, à chaque époque, l'erreur de classification totale et les cout moyen pour les trois ensembles. (Voir fonction init_train_plotModel et considérer le paramètre show_epoch_data=True )"
   ]
  },
  {
   "cell_type": "code",
   "execution_count": 22,
   "metadata": {
    "collapsed": false
   },
   "outputs": [
    {
     "name": "stdout",
     "output_type": "stream",
     "text": [
      "For Epoch 1\n",
      "Train Cost: 0.274961364321\n",
      "Error Rate- Training  8.34%\n",
      "Valid Cost: 0.26313154708\n",
      "Error Rate- Validation  7.95%\n",
      "Test Cost: 0.2573767729\n",
      "Error Rate- Test  7.69%\n",
      "\n",
      "\n",
      "\n",
      "For Epoch 2\n",
      "Train Cost: 0.248457069958\n",
      "Error Rate- Training  7.59%\n",
      "Valid Cost: 0.242650777764\n",
      "Error Rate- Validation  7.58%\n",
      "Test Cost: 0.235956478263\n",
      "Error Rate- Test  7.11%\n",
      "\n",
      "\n",
      "\n",
      "For Epoch 3\n",
      "Train Cost: 0.228948655256\n",
      "Error Rate- Training  6.89%\n",
      "Valid Cost: 0.224439003914\n",
      "Error Rate- Validation  6.79%\n",
      "Test Cost: 0.220036390415\n",
      "Error Rate- Test  6.60%\n",
      "\n",
      "\n",
      "\n",
      "train_model function took 15302.911 ms\n",
      "Error with num_epoch =3, using batch_size = 100\n",
      "Error Rate- Test  6.79%\n"
     ]
    }
   ],
   "source": [
    "hidden_nodes = 20\n",
    "batch_size = 100\n",
    "learning_rate = 0.5\n",
    "penalty_lambda = 0.001\n",
    "num_epochs = 3\n",
    "\n",
    "\n",
    "msg = \"Error with num_epoch =\"+str(num_epochs)+\", using batch_size = \"+str(batch_size)\n",
    "init_train_plotModel(train_mnist, test_mnist, valid_mnist, batch_size, learning_rate, penalty_lambda, hidden_nodes, msg, num_epochs, \"mnist\", show_epoch_data=True)\n"
   ]
  },
  {
   "cell_type": "markdown",
   "metadata": {},
   "source": [
    "## Question 10"
   ]
  },
  {
   "cell_type": "markdown",
   "metadata": {},
   "source": [
    "\n",
    "### Configurations efficaces\n",
    "\n",
    "Nous avons trouvé 2 configurations qui donnent un résultat de 1.97% sur l'ensemble de test. La courbe présentée correspond à la première configuration.\n",
    "\n",
    "1. hidden_nodes=500, batch_size=100, penalty_lambda=0.0001, learning_rate=0.813, num_epoch=10\n",
    "\n",
    "2. hidden_nodes=500, batch_size=90, penalty_lambda=0.0001, learning_rate=0.805, num_epoch=10\n",
    "\n",
    "The following graphs correspond to the data collected previously and stored in \"output_data\".\n",
    "\n",
    "For a visualization of the graphs corresponding to the optimal parameters, please continue below.\n"
   ]
  },
  {
   "cell_type": "code",
   "execution_count": 16,
   "metadata": {
    "collapsed": false
   },
   "outputs": [
    {
     "name": "stdout",
     "output_type": "stream",
     "text": [
      "[ 8.342  7.586]\n"
     ]
    },
    {
     "data": {
      "image/png": "[encoded data removed]",
      "text/plain": [
       "<matplotlib.figure.Figure at 0x19ba6278>"
      ]
     },
     "metadata": {},
     "output_type": "display_data"
    },
    {
     "data": {
      "image/png": "[encoded data removed]",
      "text/plain": [
       "<matplotlib.figure.Figure at 0x1a2facf8>"
      ]
     },
     "metadata": {},
     "output_type": "display_data"
    }
   ],
   "source": [
    "def plot_sweet_curve(xgrid, tab_train, tab_valid, tab_test, label_train, label_valid, label_test, x_label, y_label, title):\n",
    "    f = interp1d(xgrid, tab_train, kind='linear')\n",
    "    f2 = interp1d(xgrid, tab_valid, kind='linear')\n",
    "    f3 = interp1d(xgrid, tab_test, kind='linear')\n",
    "\n",
    "    plt.plot(xgrid,f(xgrid),'-',color='r')\n",
    "    plt.plot(xgrid,f2(xgrid),'-',color='g')\n",
    "    plt.plot( xgrid, f3(xgrid),'-',color='b')\n",
    "    plt.legend([label_train, label_valid, label_test], loc='best')\n",
    "    plt.ylabel(y_label)\n",
    "    plt.xlabel(x_label)\n",
    "    plt.title(title)\n",
    "    plt.show()\n",
    "\n",
    "epoch_file = open('output_data') #pour les résultats des derniers numéros\n",
    "\n",
    "#epoch_file = open('optimal_data') #Les résultats pour configuration 1\n",
    "epoch_data = pickle.load(epoch_file)\n",
    "\n",
    "train_cost = epoch_data[:,0]\n",
    "train_error_rate = epoch_data[:,1]\n",
    "\n",
    "valid_cost = epoch_data[:,2]\n",
    "valid_error_rate = epoch_data[:,3]\n",
    "\n",
    "test_cost = epoch_data[:,4]\n",
    "test_error_rate = epoch_data[:,5]\n",
    "\n",
    "xgrid = [i+1for i in range(epoch_data.shape[0])] \n",
    "print train_error_rate\n",
    "plot_sweet_curve(xgrid, train_error_rate, valid_error_rate, test_error_rate, \"Train Error Rate\", \"Valid Error Rate\", \"Test Error Rate\",  \"Epoch\", \"Rate (%)\",\"Error Rate vs Epoch\")\n",
    "\n",
    "plot_sweet_curve(xgrid, train_cost, valid_cost, test_cost, \"Train Avg Cost\", \"Valid Avg Cost\", \"Test Avg Cost\", \"Epoch\", \"Avg Cost\", \"Avg Cost vs Epoch\")\n",
    "\n"
   ]
  },
  {
   "cell_type": "markdown",
   "metadata": {},
   "source": [
    "### Learning curves with Optimal Parameters"
   ]
  },
  {
   "cell_type": "code",
   "execution_count": 17,
   "metadata": {
    "collapsed": false
   },
   "outputs": [
    {
     "name": "stdout",
     "output_type": "stream",
     "text": [
      "[ 4.168  2.684  2.046  1.73   1.336  1.014  0.822  0.706  0.634  0.566]\n"
     ]
    },
    {
     "data": {
      "image/png": "[encoded data removed]",
      "text/plain": [
       "<matplotlib.figure.Figure at 0x19dda550>"
      ]
     },
     "metadata": {},
     "output_type": "display_data"
    },
    {
     "data": {
      "image/png": "[encoded data removed]",
      "text/plain": [
       "<matplotlib.figure.Figure at 0x1a640be0>"
      ]
     },
     "metadata": {},
     "output_type": "display_data"
    }
   ],
   "source": [
    "epoch_file = open('optimal_data') #Les résultats pour configuration 1\n",
    "epoch_data = pickle.load(epoch_file)\n",
    "\n",
    "train_cost = epoch_data[:,0]\n",
    "train_error_rate = epoch_data[:,1]\n",
    "\n",
    "valid_cost = epoch_data[:,2]\n",
    "valid_error_rate = epoch_data[:,3]\n",
    "\n",
    "test_cost = epoch_data[:,4]\n",
    "test_error_rate = epoch_data[:,5]\n",
    "\n",
    "xgrid = [i+1for i in range(epoch_data.shape[0])] \n",
    "print train_error_rate\n",
    "plot_sweet_curve(xgrid, train_error_rate, valid_error_rate, test_error_rate, \"Train Error Rate\", \"Valid Error Rate\", \"Test Error Rate\",  \"Epoch\", \"Rate (%)\",\"Error Rate vs Epoch\")\n",
    "\n",
    "plot_sweet_curve(xgrid, train_cost, valid_cost, test_cost, \"Train Avg Cost\", \"Valid Avg Cost\", \"Test Avg Cost\", \"Epoch\", \"Avg Cost\", \"Avg Cost vs Epoch\")\n"
   ]
  },
  {
   "cell_type": "markdown",
   "metadata": {},
   "source": [
    "\n"
   ]
  },
  {
   "cell_type": "code",
   "execution_count": null,
   "metadata": {
    "collapsed": false
   },
   "outputs": [],
   "source": []
  }
 ],
 "metadata": {
  "kernelspec": {
   "display_name": "Python 3",
   "language": "python",
   "name": "python3"
  },
  "language_info": {
   "codemirror_mode": {
    "name": "ipython",
    "version": 3
   },
   "file_extension": ".py",
   "mimetype": "text/x-python",
   "name": "python",
   "nbconvert_exporter": "python",
   "pygments_lexer": "ipython3",
   "version": "3.5.1"
  }
 },
 "nbformat": 4,
 "nbformat_minor": 0
}
